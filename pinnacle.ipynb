{
  "nbformat": 4,
  "nbformat_minor": 0,
  "metadata": {
    "colab": {
      "provenance": []
    },
    "kernelspec": {
      "name": "python3",
      "display_name": "Python 3"
    },
    "language_info": {
      "name": "python"
    }
  },
  "cells": [
    {
      "cell_type": "code",
      "source": [
        "import pandas as pd\n",
        "import nltk\n",
        "import tensorflow as tf\n",
        "from tensorflow.keras.preprocessing.text import Tokenizer\n",
        "from tensorflow.keras.preprocessing.sequence import pad_sequences\n",
        "from tensorflow.keras.models import Sequential\n",
        "from tensorflow.keras.layers import Embedding, Conv1D, MaxPooling1D, Flatten, Dense, Dropout\n",
        "from sklearn.metrics import classification_report\n",
        "\n",
        "# Download stopwords\n",
        "nltk.download('stopwords')\n",
        "\n",
        "# Load data\n",
        "train_df = pd.read_csv('Train.csv').head(4000)\n",
        "valid_df = pd.read_csv('Valid.csv').head(500)\n",
        "test_df = pd.read_csv('Test.csv').head(500)\n",
        "\n",
        "print('Train: '+ str(len(train_df)))\n",
        "print('Valid: '+ str(len(valid_df)))\n",
        "print('Test: '+ str(len(test_df)))\n",
        "\n",
        "# Text preprocessing\n",
        "train_df['text'] = train_df['text'].str.lower()\n",
        "valid_df['text'] = valid_df['text'].str.lower()\n",
        "test_df['text'] = test_df['text'].str.lower()\n",
        "\n",
        "import string\n",
        "exclude = set(string.punctuation)\n",
        "\n",
        "def remove_punctuation(x):\n",
        "    return ''.join(ch for ch in x if ch not in exclude)\n",
        "\n",
        "train_df['text'] = train_df['text'].apply(remove_punctuation)\n",
        "valid_df['text'] = valid_df['text'].apply(remove_punctuation)\n",
        "test_df['text'] = test_df['text'].apply(remove_punctuation)\n",
        "\n",
        "from nltk.corpus import stopwords\n",
        "stop = stopwords.words('english')\n",
        "\n",
        "train_df['text'] = train_df['text'].apply(lambda x: ' '.join([word for word in x.split() if word not in (stop)]))\n",
        "valid_df['text'] = valid_df['text'].apply(lambda x: ' '.join([word for word in x.split() if word not in (stop)]))\n",
        "test_df['text'] = test_df['text'].apply(lambda x: ' '.join([word for word in x.split() if word not in (stop)]))\n",
        "\n",
        "# Tokenization and Padding\n",
        "max_words = 20000  # Number of unique words\n",
        "max_len = 100      # Maximum length of sequences\n",
        "\n",
        "tokenizer = Tokenizer(num_words=max_words)\n",
        "tokenizer.fit_on_texts(train_df['text'])\n",
        "\n",
        "X_train = tokenizer.texts_to_sequences(train_df['text'])\n",
        "X_valid = tokenizer.texts_to_sequences(valid_df['text'])\n",
        "X_test = tokenizer.texts_to_sequences(test_df['text'])\n",
        "\n",
        "X_train_pad = pad_sequences(X_train, maxlen=max_len)\n",
        "X_valid_pad = pad_sequences(X_valid, maxlen=max_len)\n",
        "X_test_pad = pad_sequences(X_test, maxlen=max_len)\n",
        "\n",
        "# Define the CNN model\n",
        "model = Sequential([\n",
        "    Embedding(input_dim=max_words, output_dim=128, input_length=max_len),\n",
        "    Conv1D(filters=64, kernel_size=5, activation='relu'),\n",
        "    MaxPooling1D(pool_size=4),\n",
        "    Conv1D(filters=128, kernel_size=5, activation='relu'),\n",
        "    MaxPooling1D(pool_size=4),\n",
        "    Flatten(),\n",
        "    Dense(128, activation='relu'),\n",
        "    Dropout(0.5),\n",
        "    Dense(1, activation='sigmoid')  # For binary classification\n",
        "])\n",
        "\n",
        "model.compile(optimizer='adam', loss='binary_crossentropy', metrics=['accuracy'])\n",
        "\n",
        "# Train the model\n",
        "history = model.fit(\n",
        "    X_train_pad, train_df['label'],\n",
        "    epochs=10,\n",
        "    validation_data=(X_valid_pad, valid_df['label']),\n",
        "    batch_size=32\n",
        ")\n",
        "\n",
        "# Evaluate the model\n",
        "test_loss, test_acc = model.evaluate(X_test_pad, test_df['label'])\n",
        "print(f\"Test accuracy: {test_acc:.4f}\")\n",
        "\n",
        "# Make predictions\n",
        "predictions = (model.predict(X_test_pad) > 0.5).astype(\"int32\")\n",
        "\n",
        "# Convert predictions to a list\n",
        "predictions = predictions.flatten()\n",
        "\n",
        "# Classification report\n",
        "report = classification_report(test_df['label'], predictions)\n",
        "print(report)\n"
      ],
      "metadata": {
        "colab": {
          "base_uri": "https://localhost:8080/"
        },
        "id": "N3SKd97x_exf",
        "outputId": "253c2d50-b4a7-4fb8-aa8f-02ccbc187d01"
      },
      "execution_count": 9,
      "outputs": [
        {
          "output_type": "stream",
          "name": "stderr",
          "text": [
            "[nltk_data] Downloading package stopwords to /root/nltk_data...\n",
            "[nltk_data]   Package stopwords is already up-to-date!\n"
          ]
        },
        {
          "output_type": "stream",
          "name": "stdout",
          "text": [
            "Train: 4000\n",
            "Valid: 500\n",
            "Test: 500\n"
          ]
        },
        {
          "output_type": "stream",
          "name": "stderr",
          "text": [
            "/usr/local/lib/python3.10/dist-packages/keras/src/layers/core/embedding.py:90: UserWarning: Argument `input_length` is deprecated. Just remove it.\n",
            "  warnings.warn(\n"
          ]
        },
        {
          "output_type": "stream",
          "name": "stdout",
          "text": [
            "Epoch 1/10\n",
            "\u001b[1m125/125\u001b[0m \u001b[32m━━━━━━━━━━━━━━━━━━━━\u001b[0m\u001b[37m\u001b[0m \u001b[1m11s\u001b[0m 68ms/step - accuracy: 0.5318 - loss: 0.6909 - val_accuracy: 0.7800 - val_loss: 0.4478\n",
            "Epoch 2/10\n",
            "\u001b[1m125/125\u001b[0m \u001b[32m━━━━━━━━━━━━━━━━━━━━\u001b[0m\u001b[37m\u001b[0m \u001b[1m9s\u001b[0m 61ms/step - accuracy: 0.8606 - loss: 0.3437 - val_accuracy: 0.8260 - val_loss: 0.3944\n",
            "Epoch 3/10\n",
            "\u001b[1m125/125\u001b[0m \u001b[32m━━━━━━━━━━━━━━━━━━━━\u001b[0m\u001b[37m\u001b[0m \u001b[1m8s\u001b[0m 60ms/step - accuracy: 0.9879 - loss: 0.0464 - val_accuracy: 0.8280 - val_loss: 0.5731\n",
            "Epoch 4/10\n",
            "\u001b[1m125/125\u001b[0m \u001b[32m━━━━━━━━━━━━━━━━━━━━\u001b[0m\u001b[37m\u001b[0m \u001b[1m11s\u001b[0m 70ms/step - accuracy: 0.9987 - loss: 0.0063 - val_accuracy: 0.8140 - val_loss: 0.8086\n",
            "Epoch 5/10\n",
            "\u001b[1m125/125\u001b[0m \u001b[32m━━━━━━━━━━━━━━━━━━━━\u001b[0m\u001b[37m\u001b[0m \u001b[1m8s\u001b[0m 55ms/step - accuracy: 1.0000 - loss: 8.9715e-04 - val_accuracy: 0.8180 - val_loss: 0.9158\n",
            "Epoch 6/10\n",
            "\u001b[1m125/125\u001b[0m \u001b[32m━━━━━━━━━━━━━━━━━━━━\u001b[0m\u001b[37m\u001b[0m \u001b[1m9s\u001b[0m 69ms/step - accuracy: 1.0000 - loss: 2.4939e-04 - val_accuracy: 0.8140 - val_loss: 1.0096\n",
            "Epoch 7/10\n",
            "\u001b[1m125/125\u001b[0m \u001b[32m━━━━━━━━━━━━━━━━━━━━\u001b[0m\u001b[37m\u001b[0m \u001b[1m6s\u001b[0m 51ms/step - accuracy: 1.0000 - loss: 1.1357e-04 - val_accuracy: 0.8120 - val_loss: 1.0756\n",
            "Epoch 8/10\n",
            "\u001b[1m125/125\u001b[0m \u001b[32m━━━━━━━━━━━━━━━━━━━━\u001b[0m\u001b[37m\u001b[0m \u001b[1m8s\u001b[0m 68ms/step - accuracy: 1.0000 - loss: 4.4954e-05 - val_accuracy: 0.8200 - val_loss: 1.1576\n",
            "Epoch 9/10\n",
            "\u001b[1m125/125\u001b[0m \u001b[32m━━━━━━━━━━━━━━━━━━━━\u001b[0m\u001b[37m\u001b[0m \u001b[1m6s\u001b[0m 51ms/step - accuracy: 1.0000 - loss: 4.3043e-05 - val_accuracy: 0.8180 - val_loss: 1.1920\n",
            "Epoch 10/10\n",
            "\u001b[1m125/125\u001b[0m \u001b[32m━━━━━━━━━━━━━━━━━━━━\u001b[0m\u001b[37m\u001b[0m \u001b[1m9s\u001b[0m 68ms/step - accuracy: 1.0000 - loss: 9.2357e-05 - val_accuracy: 0.8200 - val_loss: 1.2621\n",
            "\u001b[1m16/16\u001b[0m \u001b[32m━━━━━━━━━━━━━━━━━━━━\u001b[0m\u001b[37m\u001b[0m \u001b[1m0s\u001b[0m 10ms/step - accuracy: 0.8487 - loss: 1.0817\n",
            "Test accuracy: 0.8320\n",
            "\u001b[1m16/16\u001b[0m \u001b[32m━━━━━━━━━━━━━━━━━━━━\u001b[0m\u001b[37m\u001b[0m \u001b[1m0s\u001b[0m 18ms/step\n",
            "              precision    recall  f1-score   support\n",
            "\n",
            "           0       0.88      0.79      0.83       266\n",
            "           1       0.79      0.88      0.83       234\n",
            "\n",
            "    accuracy                           0.83       500\n",
            "   macro avg       0.83      0.83      0.83       500\n",
            "weighted avg       0.84      0.83      0.83       500\n",
            "\n"
          ]
        }
      ]
    }
  ]
}